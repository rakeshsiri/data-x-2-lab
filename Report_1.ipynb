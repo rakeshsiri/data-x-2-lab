{
  "nbformat": 4,
  "nbformat_minor": 0,
  "metadata": {
    "accelerator": "GPU",
    "colab": {
      "name": "Report_1.ipynb",
      "provenance": [],
      "collapsed_sections": [],
      "include_colab_link": true
    },
    "kernelspec": {
      "display_name": "dask",
      "language": "python",
      "name": "dask"
    },
    "language_info": {
      "codemirror_mode": {
        "name": "ipython",
        "version": 3
      },
      "file_extension": ".py",
      "mimetype": "text/x-python",
      "name": "python",
      "nbconvert_exporter": "python",
      "pygments_lexer": "ipython3",
      "version": "3.7.5"
    }
  },
  "cells": [
    {
      "cell_type": "markdown",
      "metadata": {
        "id": "view-in-github",
        "colab_type": "text"
      },
      "source": [
        "<a href=\"https://colab.research.google.com/github/rakeshsiri/data-x-2-lab/blob/master/Report_1.ipynb\" target=\"_parent\"><img src=\"https://colab.research.google.com/assets/colab-badge.svg\" alt=\"Open In Colab\"/></a>"
      ]
    },
    {
      "cell_type": "markdown",
      "metadata": {
        "id": "2ECI3s3nmxkI",
        "colab_type": "text"
      },
      "source": [
        "Akbar Surani\n",
        "\n",
        "Anmol Dureha\n",
        "\n",
        "Pradeep Kumar\n",
        "\n",
        "Rakesh Siri\n",
        "\n",
        ".............\n",
        "\n",
        "Final Project Report - Part 1\n",
        "\n",
        "Data-X 2 \n",
        "\n",
        "12th December, 2020"
      ]
    },
    {
      "cell_type": "markdown",
      "metadata": {
        "id": "uJLuUxkiZfy4",
        "colab_type": "text"
      },
      "source": [
        "Importing required libraries"
      ]
    },
    {
      "cell_type": "code",
      "metadata": {
        "id": "j7-A0Dik5trN",
        "colab_type": "code",
        "colab": {}
      },
      "source": [
        "import pandas as pd\n",
        "import numpy as np\n",
        "import re\n",
        "import os\n",
        "# from tqdm import tqdm"
      ],
      "execution_count": 0,
      "outputs": []
    },
    {
      "cell_type": "code",
      "metadata": {
        "id": "YhEojFlW5trS",
        "colab_type": "code",
        "colab": {}
      },
      "source": [
        "# import dask\n",
        "# from dask import delayed\n",
        "# from dask.distributed import Client\n",
        "# client = Client(n_workers=8)\n",
        "# client"
      ],
      "execution_count": 0,
      "outputs": []
    },
    {
      "cell_type": "code",
      "metadata": {
        "id": "93CKIUsa5trU",
        "colab_type": "code",
        "outputId": "a9d55f6c-7027-41c9-9406-3ca0f37b0e75",
        "colab": {}
      },
      "source": [
        "re.compile('[A-Z]{2,}|\\(.*\\)').split('rakesh SIRI is SIRI (asdas asd sdsa) here')"
      ],
      "execution_count": 0,
      "outputs": [
        {
          "output_type": "execute_result",
          "data": {
            "text/plain": [
              "['rakesh ', ' is ', ' ', ' here']"
            ]
          },
          "metadata": {
            "tags": []
          },
          "execution_count": 3
        }
      ]
    },
    {
      "cell_type": "code",
      "metadata": {
        "id": "W_NcxvbZ5trX",
        "colab_type": "code",
        "colab": {}
      },
      "source": [
        "def qualify_sentence(line):\n",
        "    line = line.strip()\n",
        "    if re.compile('[A-za-z]{3,}').search(line):\n",
        "        return True\n",
        "    return False\n",
        "\n",
        "def script_to_dialogs(movie_file, genre):\n",
        "    path = f'Data/imsdb_scenes_dialogs_nov_2015/dialogs/{genre}/{movie_file}'\n",
        "    with open(path,'r') as file:\n",
        "        data = \" \".join(line.strip() for line in file)\n",
        "\n",
        "    regex = '[A-Z]{2,}'\n",
        "    data = re.compile(regex).split(data)\n",
        "    data = [d.strip() for d in data if qualify_sentence(d)]\n",
        "    pd.DataFrame(data).to_csv(f'dialogs/{movie_file}',header=False,index=False)\n",
        "    return 1"
      ],
      "execution_count": 0,
      "outputs": []
    },
    {
      "cell_type": "code",
      "metadata": {
        "id": "JuVSr_R95trZ",
        "colab_type": "code",
        "colab": {}
      },
      "source": [
        "genre = os.listdir('Data/imsdb_scenes_dialogs_nov_2015/dialogs/')"
      ],
      "execution_count": 0,
      "outputs": []
    },
    {
      "cell_type": "code",
      "metadata": {
        "scrolled": true,
        "id": "OQfeoS0t5trb",
        "colab_type": "code",
        "outputId": "d0a00be1-2019-49e4-b2a6-38941cd8c146",
        "colab": {}
      },
      "source": [
        "done = 0\n",
        "for g in genre:\n",
        "#     print(g,'------------------------------')\n",
        "    for title in tqdm(os.listdir(f'Data/imsdb_scenes_dialogs_nov_2015/dialogs/{g}/')):\n",
        "#         print('      ',g)\n",
        "        done += script_to_dialogs(title,g)\n",
        "done"
      ],
      "execution_count": 0,
      "outputs": [
        {
          "output_type": "stream",
          "text": [
            "100%|██████████| 329/329 [00:02<00:00, 131.97it/s]\n",
            "100%|██████████| 187/187 [00:01<00:00, 131.41it/s]\n",
            "100%|██████████| 5/5 [00:00<00:00, 105.29it/s]\n",
            "100%|██████████| 128/128 [00:00<00:00, 158.28it/s]\n",
            "100%|██████████| 3/3 [00:00<00:00, 102.54it/s]\n",
            "100%|██████████| 27/27 [00:00<00:00, 122.16it/s]\n",
            "100%|██████████| 258/258 [00:01<00:00, 157.81it/s]\n",
            "100%|██████████| 85/85 [00:00<00:00, 146.73it/s]\n",
            "100%|██████████| 138/138 [00:00<00:00, 149.45it/s]\n",
            "100%|██████████| 3/3 [00:00<00:00, 71.18it/s]\n",
            "100%|██████████| 13/13 [00:00<00:00, 113.45it/s]\n",
            "100%|██████████| 174/174 [00:01<00:00, 141.86it/s]\n",
            "100%|██████████| 311/311 [00:02<00:00, 122.76it/s]\n",
            "100%|██████████| 126/126 [00:00<00:00, 161.22it/s]\n",
            "100%|██████████| 539/539 [00:04<00:00, 128.57it/s]\n",
            "100%|██████████| 4/4 [00:00<00:00, 90.96it/s]\n",
            "100%|██████████| 1/1 [00:00<00:00, 309.04it/s]\n",
            "100%|██████████| 22/22 [00:00<00:00, 187.07it/s]\n",
            "100%|██████████| 1/1 [00:00<00:00, 367.31it/s]\n",
            "100%|██████████| 98/98 [00:00<00:00, 128.22it/s]\n",
            "100%|██████████| 18/18 [00:00<00:00, 122.49it/s]\n",
            "100%|██████████| 28/28 [00:00<00:00, 156.77it/s]\n"
          ],
          "name": "stderr"
        },
        {
          "output_type": "execute_result",
          "data": {
            "text/plain": [
              "2498"
            ]
          },
          "metadata": {
            "tags": []
          },
          "execution_count": 13
        }
      ]
    },
    {
      "cell_type": "code",
      "metadata": {
        "id": "7e6bt8JB5trd",
        "colab_type": "code",
        "outputId": "364bf1a4-078f-4c53-9444-ed38ae81e9e5",
        "colab": {}
      },
      "source": [
        "list(pd.read_csv(f\"dialogs/{os.listdir('dialogs/')[np.random.randint(0,961,1)[0]]}\").iloc[:,0])"
      ],
      "execution_count": 0,
      "outputs": [
        {
          "output_type": "execute_result",
          "data": {
            "text/plain": [
              "['What was that, fellas?  2.',\n",
              " 'Clear-air turbulence, is all. Nothing',\n",
              " \"But nothing you'd want to toss a  third-down pass through either --  (Grinning back at\",\n",
              " ')  Can I have an autograph for my kid,  Mr. Gordon?',\n",
              " 'Sure -- my pleasure.',\n",
              " \"Wow. Call Westchester Approach, see  what they've got.\",\n",
              " \"I sure hope we don't have to turn  back. I mean this is first day of  training camp, I wouldn't want to be\",\n",
              " 'Seat-belt time.',\n",
              " \"Maybe it'd be smoother if you went\",\n",
              " 'Will you',\n",
              " \"'s head\",\n",
              " \")  Look, Mister Flash Gordon, they have  their hands full -- just let 'em  drive.  3.\",\n",
              " \"When you're nervous, it can help to  chew on something\",\n",
              " 'Thanks a lot -- I look dumb enough  to take candy from a stranger?',\n",
              " \"I'm not a stranger exactly -- You  know my name.\",\n",
              " \"Who doesn't. Number one draft pick,  cover of\",\n",
              " \"mag -- what'd the\",\n",
              " 'sign you for, eighty-nine  million? Big deal!',\n",
              " 'Of course.',\n",
              " \"God, I hate flying -- I'm Dale Arden  it's crazy of me to hate flying --  I'm a travel agent, you see? -- I've  just been checking out a little hotel  in Vermont -- can I still have that  candy bar?  (and in the same breath)  Are we going backward?\",\n",
              " 'Backwards?',\n",
              " ')  Holy cow! Look at the clouds!  4.',\n",
              " 'The extraordinary weather disturbances  reported from Africa this morning  are now crossing the Atlantic, and  are expected to reach the East Coast  of the United States by noon.  According to scientists at',\n",
              " ', the  Earth is being struck by an immense  stream of cosmic energy, apparently  the result of some catastrophic  stellar accident beyond the reaches',\n",
              " \"Fools! Can't you understand? This  is no accident-- it's an\",\n",
              " '! An  attack planned by a',\n",
              " '! This is',\n",
              " 'Dr. Zarkov! Look at the report from  the last balloon!  5.',\n",
              " \"I predicted it, didn't I?\",\n",
              " 'Yes, sir -- you sure did. And this  funny sun too ---',\n",
              " 'Ozone layer starting to crack up.  By tonight Carbon dioxide will be  combining with free nitrogen to form --  (breaks off, crumpling',\n",
              " ')  Well, this is it.',\n",
              " 'Sir, the President is on the',\n",
              " 'behind',\n",
              " 'What the hell do I care? I tried to  warn him -- he called me mad, like  all the others.',\n",
              " \"'D)  Time for us to go, Munson. Get your  toothbrush and whatever.\",\n",
              " 'Go where?',\n",
              " 'Up. Up and at him.',\n",
              " \"You're crazy!\",\n",
              " \"I can't handle the capsule alone get  your toothbrush.  6.\",\n",
              " \"What's ,e word from Westchester  Approach, Bill?\",\n",
              " 'Zip. All chanels dead.  (Reacting to the panel)  Say, get a load of the',\n",
              " \"On the left, about six o'clock  high......\",\n",
              " \"'D)  Hold on tight, let's put baby down  right here......\",\n",
              " 'Can you fly it?',\n",
              " \"I can fly all right -- I've had a  couple of lessons! -- just don't if  I can land!  (\",\n",
              " ')  Grab that other wheel! Help me pull  her up!',\n",
              " \"Oh boy! Ever hear about the man who  fell ninety stories from a window  and didn't break a bone?\",\n",
              " \"No but I'd sure like to! How'd The  man fall ninety stories didn't break  a bone?\",\n",
              " 'The window was ninety-one stories  up!  (',\n",
              " \"Brace yourself I'm aiming at that  field up ahead!  (\",\n",
              " 'I see you, Munson! Come out or I  shoot!  8.',\n",
              " \"So what's it matter if I'm shot or  go up in that thing? I'm a goner  either way, right?\",\n",
              " \"Of course -- I admit that! But this  way you'll be giving your life for a  chance of saving Earth! Haven't you  any spirit at all??\",\n",
              " 'Goodbye, Doctor -- they were all  right about you. Have a nice trip.',\n",
              " \"I tell you I can't take it off alone!  If you won't come, who will I find?  9.\",\n",
              " 'Dale! Are you all right?',\n",
              " \"I'm terrific.  (\",\n",
              " ')  Flash Gordon, you have just made me  a Giant fan for life.',\n",
              " \"Come on -- let's get out before she  blows!\",\n",
              " \"Hello. i'm Flash Gordon, this is  Miss Dale Arden --\",\n",
              " ')  Delighted to see you.',\n",
              " 'This crazy storm knocked us down  could we use a phone?',\n",
              " 'Certainly. Just follow me -- up those  stairs.',\n",
              " 'Some weather huh?',\n",
              " 'It will get worse.',\n",
              " \"You're Dr. Hans Zarkov!\",\n",
              " 'How did you know?  10.',\n",
              " 'I saw you in',\n",
              " 'mag. After you  left',\n",
              " ', remember? It said you  were utterly ---',\n",
              " 'Insane? Off my rocker?',\n",
              " 'I forget what it said:  (',\n",
              " \")  Flash, let's find some other phone,  okay? I'm sure Dr. Zarkov is very  busy.......\",\n",
              " 'Well, all right -- but it seems to  me we ought to --',\n",
              " 'Up the stairs to the tower! Ahead  of me -- quick! --  (as they gape at him,',\n",
              " \")  Quick I said: We haven't much time --  Earth is being attacked! -- there's  only one slim chance of saving it!\",\n",
              " 'Mister, you are insane!',\n",
              " 'Up the stairs --',\n",
              " 'Go with the flow -- wait for a chance!  11.',\n",
              " 'I need your help to take off! Get  in or I shot you dead!',\n",
              " 'Take off for where?',\n",
              " 'God only knows -- whatever black  corner of space this is coming from --  wherever',\n",
              " \"is!. -- we'll plunge  into the devil's heart and destroy  him! We'll die ourselves, of course,  but our names will be honored till  the end of time!\",\n",
              " \"Look, Doc -- I don't book kamikaze  tours -- never.\",\n",
              " 'Sit down there! Foot on the red pedal!',\n",
              " 'Flash! Sack him!  12.',\n",
              " ',  Friendship...Built this to send to  them in...Friendship...The end  now...End of the world....Unless we  (every sound an effort',\n",
              " ')  Unless...We...Three...Can...  13.',\n",
              " '(O.S.)  They survived our Black Hole --  14.',\n",
              " '(O.S.)  Hail Ming! Shall I drown them in  the Sea of Fire?',\n",
              " '(O.S.)  Later, Klytus -- I think we will  look at them first.  15.',\n",
              " 'By God, we did it! We made it!',\n",
              " 'Made it where, Doctor?',\n",
              " \"I don't know.\",\n",
              " \"Don't. Suddenly I like it in here  just fine --\",\n",
              " \"Hello -- my name's Flash Gordon --  can you understand me?  (\",\n",
              " \")  We're from\",\n",
              " '-- we come as  friends.',\n",
              " \")  Extend your hand! That's the gesture  of friendship known everywhere!\",\n",
              " 'You are prisoners. I will take you  now to Ming the Merciless, Ruler of  the universe!',\n",
              " ')  Hail, Ming!  16.',\n",
              " \"Thanks, Doctor -- next time I'll  call my own play.\",\n",
              " \"Just do what I'm doing. Flash --\",\n",
              " 'What are you doing?',\n",
              " 'Shutting my eyes -- dreaming I booked  us to Disneyland.  (',\n",
              " 'Hail, Ming! Hail, Great One Without  Mercy!',\n",
              " 'Fantastic -- into a Black Hole and  out the other side -- to this. Who  said Hans Zarkov was mad?',\n",
              " \"You're mad.\",\n",
              " 'You got us into this --',\n",
              " \"Get out? Why? We're being taken to  Ming -- getting at him is our only  hope of saving\",\n",
              " \". It's perfect!\",\n",
              " \"Dr. Zarkov, I'm about to show you  what it feels like to be clipped by  a New York Giant --\",\n",
              " \"Flash, it's no use - he's too crazy!\",\n",
              " 'Step forward, Soldier.',\n",
              " \"'D)  Are you loyal to Ming? Would you  die for him?\",\n",
              " 'Gladly!',\n",
              " 'Fall on your sword.  18.',\n",
              " 'You inhuman fiend!',\n",
              " 'Of course I\\'m \"inhuman\"! -- that\\'s a  compliment!  (Dropping his voice)  Pathetic Earthlings, forever wondering  if you are alone in the universe --  beaming you plaintive messages into  to the void for anything that might  hear you -- even hurling your bodies  out into it -- and all without the  faintest inkling of who or what is  out here. If you had known anything --  anything at all about the true nature  of the universe, you would have hidden  from it, in terror!',\n",
              " 'Watch it, fella -- you came with me!',\n",
              " 'You know who Ming is now -- who are  you and why do you come to Mongo?  19.',\n",
              " \"I'm Flash Gordon of the New York  Giants this is Dale Arden -- Dr.Zarkov  hijacked us in an effort to save\",\n",
              " 'Sirs, Earth is the meaningless planet  you are in the process of  obliterating.',\n",
              " '(pouncing on that)  In the process? You mean Earth still  exists?',\n",
              " 'For the moment -- not for much longer.',\n",
              " 'But why? What in hell have we ever  done to hurt you?',\n",
              " 'You exist -- and yet you pay no homage  to Ming! What greater crime can be  committed?',\n",
              " 'Hail, Ming! Hail, Great One Without  Mercy!',\n",
              " 'Come closer, Dale Arden -- let me  see you.',\n",
              " 'This woman will amuse you.  20.',\n",
              " ')  Klytus can see the future, eh?',\n",
              " 'He can foresee it -- but for a few  moments only. It gives him a unique  gift for survival, -- and treachery.',\n",
              " \"Extraordinary. I'd like to study  his beta factors -- I wager I could  extend them with a course of  telekinetic exercise.  (peering at\",\n",
              " ')  Tell me -- when you use this fit  does your temporal lobe prickle?  Here?',\n",
              " 'Chain this one up. Preserve him for  further examination.',\n",
              " 'Hail, Ming!',\n",
              " \"Oh no you don't! We came together  and we're\",\n",
              " 'together!',\n",
              " 'That one is useless to us. Remove  him and kill him.',\n",
              " 'You dirty old bastard can kill me  too!  21.',\n",
              " \"Don't kill him yet, Father. Give him  to me!\",\n",
              " ')  What would your Prince Barin say?',\n",
              " 'I can handle Barin.',\n",
              " 'Really, Aura -- your appetites are  too monstrous -- even for our family.  This could cause great trouble with  Barin -- I must forbid it.',\n",
              " 'But you adore me, Father -- you ca  refuse me nothing . Yes?',\n",
              " 'Take the Earth-woman to our quarters!  Bathe and annoint her for our  pleasure!',\n",
              " 'My God -- and I thought that book  was another rip-off-',\n",
              " 'Watch out! Behind you!',\n",
              " \"(low and tremulous)  What's the play, Flash?\",\n",
              " \"I can't -- I just can't --\",\n",
              " \"Can't what?\",\n",
              " 'Clobber a woman, Dale --',\n",
              " \")  You damn fool, those aren't women  they're murderous\",\n",
              " \"'D)  Help!!  23.  (\",\n",
              " 'Flash!!',\n",
              " \"She betrays you! She'll take him to  Aboria!\",\n",
              " \"So Prince Barin will kill Flash Gordon  for me -- I don't care.\",\n",
              " \"Don't be too sure!  24.\",\n",
              " \"I haven't taken a wife in centuries.  I could bring myself to marry this  Dale Arden --  (A\",\n",
              " ')  What do you see in her future, Klytus?',\n",
              " \"Take a deep breath! Grab my ankle  after we hit the water -- I'll lead  you!\",\n",
              " 'Hit what water?',\n",
              " \"Catch your breath -- then I'll take  you up and find you a disguise.  25.\",\n",
              " \"You're saving my life. How can I  Thank you?\",\n",
              " \"I'll fly you to the forest of Arboria -  we'll find a way.\",\n",
              " \"Let's get one thing straight -- I've  got to find Dale and that nut Zarkov  too -- rescue them and try to save  Earth too.\",\n",
              " \"Do you realize how foolish you are  to tell that to me -- Ming's daughter?\",\n",
              " \"I'm no good at lying.\",\n",
              " \"You're funny -- are all Eathlings  like you, Flash Gordon?\",\n",
              " \"I guess I'm about average.\",\n",
              " \"(O.S.)  What's that?\",\n",
              " \"(O.S.)  The plasma core. It's e source of  the energy-beam my father ia aiming  at Earth. You can't stop it. Ming is  merciless and all-powerful!  26.\",\n",
              " \"'D)  The slaves are Lizard Men. Once they  had their own water Kingdom, the  fairest of Mongo. Then they dared to  rebel. They will suffer for it here  forever.  (\",\n",
              " \"You can't reach him. If a soldier  spots you, it's instant death! --  Come!\",\n",
              " 'Incredible - the very core of this  planet, is it not?',\n",
              " 'We are but soldiers. We do not know.',\n",
              " 'You guess well, Dr. Zarkov!  27.',\n",
              " \"I am forcing this plasma through the  successive nuclear phases of a star -  building it toward the apocalyptic  moment that will end Earth's pathetic  history in one flash of fire.\",\n",
              " \"Devil! Why don't you turn this science  to peaceful use? The name Ming would  be blessed instead of cursed.\",\n",
              " 'Bring him up to the dome, Soldiers --  we wish to show him wonders.',\n",
              " 'Hail! Ming! Hail, Great one Without  Mercy!',\n",
              " \"Listen, where's he got Dale?\",\n",
              " 'Forget Dale Arden!',\n",
              " \"I can't! I mean I hardly know her,\",\n",
              " \"Forget her, Flash Gordon: I saw a  look in my father's eye -- I think  he intends to marry her.\",\n",
              " 'What?? Marry her? What are you  talking about??  28.',\n",
              " 'Oh you ask so many questions.  (',\n",
              " \")  I'm taking you to people who'll help  you. Trust me!\",\n",
              " 'Can I honestly?',\n",
              " 'Trust me!',\n",
              " \"'D)  Here we are.\",\n",
              " 'Here we are where?',\n",
              " \"I've dressed you as a Royal Pilot,  First Class. We'll slip into my  personal car and you'll fly it.\",\n",
              " 'Those are',\n",
              " \"in there! I  can't fly a damn rocket ship!\",\n",
              " \"(soft, teasing)  Learn from me -- I'll teach you so  much!  29.\",\n",
              " 'Earth!',\n",
              " 'Yes, Zarkov -- as it was. Now as it  will be, when my plasma reaches full  force.....',\n",
              " \"'D)  And as it will be in yet another  time, long after you have died. Earth  reborn! A pleasant image, no?\",\n",
              " \"But that's impossible! Even your  perverted genius can't create new  life!\",\n",
              " \"Of course I can create life. There's  nothing easier. It only requires  myself and one woman.\",\n",
              " ')  Dale Arden.....',\n",
              " \"Who else? As in that childish myth  of yours -- Adam and Eve, wasn't it?  I will breed with her and repopulate  the Earth in my own image. I've  already done it on over a thousand  planets.  30.\",\n",
              " \"'D)  The magic blades are not for your  kind, Zarkov. One is my own the other  will only be withdrawn by my rightful  heir. Pull on them with all your\",\n",
              " 'Monster!',\n",
              " 'Return him to the dungeon.',\n",
              " 'Drink this.',\n",
              " 'What is it -- some rotten drug?',\n",
              " 'It has no name. But many brave men  died to bring it across space from  Cythera, planet of Pleasure. It  will make your hours with Ming more  agreeable.  31.',\n",
              " \"'D)  We are of different race, Dale Arden  but we all are women here. I know  your fears. Believe me, it will be  better if you drink it...\",\n",
              " 'Flash! Where are you??',\n",
              " \"'D)  Say, this stuff isn't bad at all.  (\",\n",
              " \"Frigia -- eleventh of the moons of  Mongo. It's inhabited by the Bear  Men who eat their own young...\",\n",
              " \"'D)  Now pull up -- go starboard around  that next moon rising -- Ardentia.  32.\",\n",
              " 'Some lucky people live on that one  too?',\n",
              " \"Of course - the Sand Men. Every  Moon is a kingdom -- seperate and  hostile to all the others. They  have nothing in common but Ming's  rule -- and their hatred of him.\",\n",
              " \"Why don't they team up and fight  him?\",\n",
              " 'Fight Ming the Merciless?  (',\n",
              " ')  You saw what happened to the Lizard  Men.',\n",
              " \"Sue -- but that wasn't a team effort.\",\n",
              " 'I don\\'t know these words what\\'s a  \"team\"?',\n",
              " \"'D)  Telekinetic Thought Transfer.  (setting its dials)  I'm going to get together with Prince  Barin in Arboria and tell him I'm  arriving. He's the one who'll help  you.\",\n",
              " 'Why?  33.',\n",
              " 'Because he does anything I ask. He  loves me.',\n",
              " 'You can really transfer your thoughts  with that? Like I could get in touch  with Dale?',\n",
              " 'If I showed you how.  (',\n",
              " \")  But I'm not going to.\",\n",
              " 'Please.',\n",
              " 'What are you doing?',\n",
              " \"Are you mad> We're diving straight  at Ardentia!\",\n",
              " \"That's right, Princess  and we're  not pulling out until you put that  gadget over my head and tune me in  to Dale Arden!  34.\",\n",
              " 'Rub this on your body. It gives  Ming pleasure.',\n",
              " \"Dale, it's me -- Flash! Am I with  you?\",\n",
              " \"What's the matter?\",\n",
              " \"I'm dreaming.  (\",\n",
              " \"No, Dale -- you're not dreaming I'm  Flash -- I'm with you and you are  with me!\",\n",
              " 'Are you receiving my thoughts?',\n",
              " \"I'm receiving something --  35.\",\n",
              " \")  I read you, Dale -- I'm getting you  too! Think of me -- hard!\",\n",
              " 'Where are you Flash?',\n",
              " \"Speeding for the Kingdom of Arboria  to get help! I'm in a spacecraft  with Aura, Ming's daughter!\",\n",
              " \"What? That bitch? Don't trust her!  She's after you!\",\n",
              " 'Listen, she means nothing to me --  not a darn thing. Where are you,  Dale?',\n",
              " 'Naked in a bathtub.',\n",
              " ')  Oh God -- if I could only see you,  Dale. If I could touch you -- what  are you in a tub for?',\n",
              " \"I'm being fixed up for Ming.\",\n",
              " \"No! Where's Dr. Zarkov?\",\n",
              " \"Chained in a dungeon, I think.  What'll I do, Flash?\",\n",
              " \"Fake 'em out!  36.\",\n",
              " 'How?',\n",
              " \"Just fake 'em out, Dale -- girls  know how. But don't go too far. I  mean get to Zarkov and release him,  I'll have help by then -- I'll find  you. Can you do all that?\",\n",
              " \"Sounds like fourth down and about  ninety yards to go, but I'll try.\",\n",
              " \"Dale, you're some girl -- God, you  really are.  (\",\n",
              " \")  Do you get what I'm thinking now?\",\n",
              " ')  Oh yes.',\n",
              " \"Dale, we're gonna get out of this  jam -- I swear we will -- I'll find  you, and when I do we'll -----  (\",\n",
              " 'Enough!',\n",
              " \"'D)  There's Arboria!  37.  (\",\n",
              " \"Sorry. I guess landings aren't my  thing.\",\n",
              " \"Where's Robin Hood?\",\n",
              " 'Who?',\n",
              " \"It doesn't matter. How do we get  down.\",\n",
              " 'Follow me.',\n",
              " 'He is coming to see you now. Are you  ready?  38.',\n",
              " '(easy, smiling)  Very.',\n",
              " 'Do you need any more of this?',\n",
              " \"No, thanks. Just turn down the light  a bit, would you? I'm shy.  (\",\n",
              " 'Serving Girl - what business have  you in this dungeon?  39.',\n",
              " 'Listen -- are you sure this Barin  will help me?',\n",
              " 'Ssssh...... Trust me!',\n",
              " \"It's amazing -- I dreamed of this  tree-house when I was a kid --\",\n",
              " \"It's Barin's hunt! Watch!  40.\",\n",
              " 'Barin got him!',\n",
              " 'Hail, Ming!',\n",
              " 'These are the guys who are gonna help  me?',\n",
              " \"It means nothing. They only shout  that because it's treason not to.  They hate Ming.\",\n",
              " 'I scent a Tiger Man near the lodge!  Form battle lines above and below!  41.',\n",
              " 'I know just how he feels -- we played  the Pittsburgh Steelers last year.',\n",
              " '(O.S.)  Prince Barin! We have him!',\n",
              " 'Not him! Bring him back for sport:  (',\n",
              " 'Go inside -- let me talk to Barin  first.  (as',\n",
              " 'hesitates)  Foolish Earthling - trust me!',\n",
              " 'Aura!  42.',\n",
              " \"It's so long since I've been with  you, Barin -- I couldn't stand it.  Please don't be too angry at me for  coming.\",\n",
              " 'Angry at you?',\n",
              " \"You'll stay the night?\",\n",
              " \"I've dreamed of it!\",\n",
              " 'Get me a sword --  (turning to',\n",
              " \")  This is the fiercest Tiger Man we  have ever hunted. I'm going to kill  him now -- and dedicate his blood to  you, my beloved.\",\n",
              " \")  But that's treason! Blood can be  dedicated to Ming alone!\",\n",
              " \"I know you, Aura -- the more a man  risks, the greater your passion. If  I knew a greater risk, I'd take it.\",\n",
              " 'Flash Gordon -- come out!  43.',\n",
              " \"I'm from Earth, Prince Barin. My  friends and I were Ming's prisoners.  She kindly brought me here to enlist  your help.\",\n",
              " 'What in hell? My help?',\n",
              " \"Hide him from my father -- don't let  him wander -- keep him for me!\",\n",
              " 'Keep me for.....????  (',\n",
              " ')  Oh, my god. I trusted you.',\n",
              " \"You still must -- I'm playing a game!\",\n",
              " 'What? What are you saying?',\n",
              " \"He's a mere toy to me, my love --  when I'm tired of it we'll kill him!\",\n",
              " \"'D)  It's the risk I ask, Barin hide him  for me in Arboria.\",\n",
              " \"I'll hide him, all right -- under  six feet of Arborian dirt!\",\n",
              " \"I'm not your enemy, Prince Barin. we  share a hatred of Ming  44.\",\n",
              " \"Are you so afraid of my Earthling,  Barin; Won't you even give him a  chance?\",\n",
              " 'Snake keeper! Rouse your beast!',\n",
              " \"'D)  Who dares the beast?\",\n",
              " 'I did him a mercy. This venom brings  death only after long tortured  madness. Your turn, Earthling.',\n",
              " \"I think I'll pass on this one.\",\n",
              " 'There are six openings to the serpent.  Five are safe -- the sixth is death.  Choose one -- or take your end from  my sword here and now.',\n",
              " \"Would you give Dale a message from  me? Tell her I'm sorry how things  have panned out -- I Loved her.\",\n",
              " \"I'll do that.\",\n",
              " 'What the hell? Forget it. Sending  that message by you is like sending  a lettuce-leaf by a rabbit.',\n",
              " \"'D)  Whew! -- Your turn, Prince Barin.\",\n",
              " 'If your love for me is great enough,  Barin, surely it will protect you  from the serpent -- no?  46.',\n",
              " 'Go again.',\n",
              " 'What are you waiting for?',\n",
              " \"Fooled you, didn't I?\",\n",
              " \"It's an even chance now, Flash Gordon --  that's better than Daddy would have  given you --\",\n",
              " 'Boy. You oughta be handled with a  forked stick yourself.',\n",
              " \"If I were you, I'd choose the sword --  47.\",\n",
              " \"'D)  A mere toy of yours, eh?\",\n",
              " \")  Maybe I was wrong -- surely the Prince  of Arboria wouldn't be beaten by a  toy.\",\n",
              " \"The hunt's on, my Tree Men!\",\n",
              " 'To the hunt with Barin!',\n",
              " 'Thank you for freeing me.  48.',\n",
              " 'You can speak?',\n",
              " 'For all the good it does me.',\n",
              " 'Have we a chance, Tiger Man?',\n",
              " \"Only if we climb -- out of the green  light -- to the sky -- Prince Barin's  Tree Men can't follow us up there!\",\n",
              " 'What do you mean?',\n",
              " \"Ming's Law -- outside his own kingdom,  every hunter becomes the hunted!\",\n",
              " 'Damn. End of the line.',\n",
              " \"'D)  How far will this take us?\",\n",
              " \"I don't know --no man has ever been  above the green.\",\n",
              " 'The sight -- call came from the left!',\n",
              " \"Up and across we'll cut them off!\",\n",
              " 'What is that color above?',\n",
              " 'Blue. We call is blue.  50.',\n",
              " \"You haven't a chance! Throw down  your weapon!\",\n",
              " 'Which way to the border:',\n",
              " 'Legend says Arboria ends in an ocean  to the west.  51.',\n",
              " 'I saved you because your death must  be mine.',\n",
              " \"What's the point of all this killing?  Why don't we team up and overthrow  Ming?\",\n",
              " 'Princess Aura returns to Mingo City  The passage through the force-field  opens at her approach --',\n",
              " \"'D)  Daddy darling -- am I with you? Are  you getting me?\",\n",
              " 'Will it fly?',\n",
              " 'Basic circuits seem okay.',\n",
              " 'It has-to fly! We gotta rescue',\n",
              " 'from that vampire before she --  53.',\n",
              " 'Jump!!',\n",
              " 'What happened?',\n",
              " 'Heaven knows. I was just starting to  test the primary transformer-banks',\n",
              " 'My God -- your hands! Your hands  are gone!',\n",
              " 'Not gone -- Just invisible. See?',\n",
              " 'Does it hurt?',\n",
              " \"Not a bit. I believe Mongo's  gravitational. field must have  reversed the polarity of my generator  so that --\",\n",
              " \"'D)  Neat trick. I wonder if it's  controllable?\",\n",
              " 'Mongo is restless today. Your vessels  stray from their appointed  kingdoms....',\n",
              " 'That damned Vultan -- time I clipped  his wings once and for all. We could  put those insolent Hawkmen of his to  work in the plasma cavern ----',\n",
              " 'Dale Arden and Flash Gordon? Will I  send out the Imperial Fleet to bring  them back?',\n",
              " \"We'll let Vultan tame her first --  I'll look pretty to Dale Arden after  him. Flash Gordon is nobody.\",\n",
              " 'Sire, it is not for me to tell Great,  Ming that he is making mistakes.',\n",
              " 'Want us to let you go, et?  55.',\n",
              " 'Yes!!',\n",
              " 'Okay.',\n",
              " 'Nooo!!!',\n",
              " 'Watch out, you old bird -- Ming wants  to marry me.  56.',\n",
              " 'Ho! -- Barin! - I knew my Hawkmen  would catch you one of these days.',\n",
              " 'Be careful how you address me, Vultan.  I am Prince Barin, ruler of Arboria.',\n",
              " \"Not in my Kingdom -- here you're  just a stray animal to be killed for  our sport!\",\n",
              " 'Will you do that, Vultan?',\n",
              " \"What would you do if you'd caught me  in Arboria?\",\n",
              " 'Yes -- I would hunt you down and  kill you without mercy.',\n",
              " 'Hello - we do meet in the strangest  places.',\n",
              " \"Where's Dale?\",\n",
              " 'The boss-bird has her up in his  57.',\n",
              " 'Flash! Oh darling!',\n",
              " 'Dale baby!',\n",
              " 'Flash -- when I was in that tub --',\n",
              " 'Yes -- it was me --',\n",
              " 'Did you mean it?',\n",
              " 'Every thought, baby! --',\n",
              " 'No. What have you to say to Vultan,  Prince of the Air?',\n",
              " \"We're all Ming's prisoners. I say  let's team up and smash him.\",\n",
              " '(O.S.)  Listen to his words! --  58.',\n",
              " \"'D)  I know -- I'm only an ignorant Tiger  Man -- but I tell you Flash Gordon  is the leader we've waited for!\",\n",
              " \"You're a leader, he?\",\n",
              " \"Well, back home it's what I'm paid  for -- I called a pretty good game  against the Dallas Cowboys once ---\",\n",
              " ')  Do you understand him?',\n",
              " 'Not a word.  (',\n",
              " ')  I was hunting him when you seized  me. Before you finish me. Vultan I  beg only that you let me finish him.',\n",
              " 'Oh god -- here we go again --',\n",
              " 'Is everyone on Mongo',\n",
              " \"? Haven't  you guys ever heard of\",\n",
              " \")  When I had that damn snake in my  hand, I could've poked it in your  face and\",\n",
              " 'you.',\n",
              " 'I had you in bow-sight you were  dead!',\n",
              " 'Enough!  (shouting to all around)  These vagrants talk a brave fight,  my Hawkmen! Shall we test their  words?  59.',\n",
              " \"Test them! -- Let's have sport! The  joust! -- To the joust! --\",\n",
              " 'Take them below -- put them together.',\n",
              " \"Flash - don't do this.\",\n",
              " \"(low, bitter)  I've got to.\",\n",
              " 'Why?',\n",
              " \"He has no choice, Dale it's the Mongo  way.\",\n",
              " \"I'm so homesick -- what I wouldn't  give for a nice quiet night with  some muggers in Central Park --\",\n",
              " 'Prepare them!',\n",
              " \"'D)  Arm the disc!\",\n",
              " 'Flash!!  61.',\n",
              " 'Ready for me, Earthling?',\n",
              " \")  I ask you to swear, Barin -- if you  defeat me, you'll join Vultan against  Ming! If for no other reasons, because  you'll never have Aura as long as  her father lives!-\",\n",
              " 'What do you now of Aura?',\n",
              " 'Quite a lot!',\n",
              " 'Flash, I love you! Win for me,  Flash!??',\n",
              " \"You've won, Earthling! Drop him to  doom!\",\n",
              " '(gasping at',\n",
              " ')  Try to catch my wrist! -- the other  one.',\n",
              " 'What is this??',\n",
              " 'Call it what you want, Vultan --  compassion -- mercy: let us teach  you the meaning of these words.',\n",
              " ')  Swing your body -- see if you can  get a leg up here!',\n",
              " 'Vultan! Hear Ming, Ruler of the  Universe!',\n",
              " 'I see you, Vultan -- and Barin too!  You both have defied we by sparing  these Earthlings!',\n",
              " \"Barin -- my only -- I swear I didn't  mean to get you into this!\",\n",
              " 'Do you want to live, Vultan?',\n",
              " 'What creature wants to die?  63.',\n",
              " \"Then kill Flash Gordon now! Pick up  Dale Arden, deliver her to me on  your own wings -- it's your only  chance! My fleet is already in the  air, ready to destroy your whole  Kingdom if you disobey!\",\n",
              " \"What'll you have -- death or dishonor?\",\n",
              " \"We'll save these Earthlings! - Curse  Ming! -- Into the air, my Hawkpeople -  fly!\",\n",
              " \"'D)  I don't understand this. I think  I've gone mad.\",\n",
              " 'Spare him Daddy -- oh please spare',\n",
              " \"You've always wanted her, Klytus --  Aura is yours.  64.\",\n",
              " \"Don't look back, Hawkman. Head for  that cloud-cover!  (over his shoulder)  Where's this capsule of yours,  exactly?\",\n",
              " 'In the high grass east of Mingo.',\n",
              " 'Pick it up, Captain!',\n",
              " 'Guess the first thing you and me are  gonna do after we land..!',\n",
              " \"Darling not in front of the Hawkmen --  you'll make me blush! --\",\n",
              " \"Gonna do it first thing -- around  here, never know if you'll get another  chance!  65.\",\n",
              " 'Help!!',\n",
              " \"I'm coming, Dale!  (to his Hawkmen)  Follow her -- climb!\",\n",
              " 'Time is short. Ming sent me to fit  you with is.',\n",
              " 'Fit me with what?',\n",
              " 'Your wedding dress.  66.',\n",
              " 'A force-field covers the whole city,  from here to here. With luck, Flash  can lure them into lowering their  defenses.',\n",
              " 'What if he fails?  (',\n",
              " \")  This is suicide, Barin! I can't  order my men to suicide!\",\n",
              " \"'D)  The flight brought me back to my  senses -- good luck and goodbye.\",\n",
              " 'Ming destroyed your kingdom!',\n",
              " \"We'll build another.\",\n",
              " 'Vultan!',\n",
              " 'Let him go -- I understand.  (up to Vultan)  Thanks anyway for getting us this  far!',\n",
              " 'Flash! Ready for a test!',\n",
              " \"What's the game-plan?\",\n",
              " 'Sit there. When I give you zero,  punch that button. Any questions?',\n",
              " 'Five, four, three, two, one --',\n",
              " \"'D)  Flash!  (\",\n",
              " ')  Do you hear me, Flash? Where are  you?',\n",
              " \"'D)  Eureka! I did it! You can come out  now, Flash --\",\n",
              " 'Not unless you get out of my way, I',\n",
              " 'Look -- he still casts a shadow:',\n",
              " \"'D)  Zarkov! What have you done?  68.\",\n",
              " 'Prisoners of Ming, you are surrounded!  The creature who moves is obliterated!',\n",
              " \"We'll find vultan later. Where's  Flash Gordon?\",\n",
              " \"His Hawkman dropped him. He's dead.\",\n",
              " \"Nooo -- it's not true!\",\n",
              " ')  It is -- they saw him fall a mile  into the glaciers of Frigia.',\n",
              " \"Oh Flash -- no -- you can't be dead --  it doesn't make any sense --\",\n",
              " 'When I think of being given to Klytus,  I wish it was myself who had fallen.',\n",
              " \"(blazing at her)  I don't believe you. You -- you  awful Mongo person -- you were born  without a heart:\",\n",
              " 'Then what is it that melts into my  eyes, Dale Arden? Feel it breaking --',\n",
              " \"You poor kid -- don't you have a\",\n",
              " 'to talk to?',\n",
              " \"Ming tired of her. He blew my Mother  into outer space. I look into the  night sky sometimes and wonder what  star she's orbiting --\",\n",
              " \"God, Aura -- no wonder you've had  problems -- that bastard:  70.\",\n",
              " 'Well? What is it this time?',\n",
              " \"I can't remember. I feel danger --  but I cannot see it.\",\n",
              " \"Klytus, you're impossible. Aura  deserves you.\",\n",
              " 'I foresee another thing. In one minute  exactly, the Earthling space capsule  will be seen on the scanner.',\n",
              " 'Shall I disintegrate it, Your Majesty?',\n",
              " 'No, Captain -- bring it in. Land it  to a warm reception.  (',\n",
              " 'Vultan! Do you read me?',\n",
              " 'Flash Gordon calling Vultan! Over!',\n",
              " \"'D)  Okay, don't answer -- I'm on Hawkman  frequency I know you are reading me.  Now get this --\",\n",
              " \"'D)  I'm being guided through the force-  field under their control. You're on  the beam when you've got the tops of  two towers lined up exactly -- the  high gold one behind the green one  with the blue flag got that?  (\",\n",
              " \")  Okay, Vultan, it's your decision the  ball is in your court -- I hope I'll  be seeing you, you crazy ole bird.\",\n",
              " 'He calls us crazy --  72.',\n",
              " \"It's empty!\",\n",
              " 'What?',\n",
              " \"Unmanned. Must've taken off on some  automatic program.\",\n",
              " 'Destroy it.',\n",
              " 'Which way to the dungeons, Soldier:',\n",
              " 'Third elevator down, turn left!  (then doing a take)  Who is that?  73.  (',\n",
              " 'I am the ghost of all the good men  murdered by Ming! Prepare for doom!  (',\n",
              " \"I'm looking at it now -- wait for  your turn.  (\",\n",
              " 'How do we get down to the plasma  level?',\n",
              " 'Anti-gravity shaft -- I got a guard  to show me --',\n",
              " \"This won't be easy, Flash --\",\n",
              " \"Nothing's easy on Mongo --\",\n",
              " 'Faster! -- More fueld!',\n",
              " \"What's the hurry?\",\n",
              " 'He wants to give Dale Arden the final  destruction of Earth as a wedding  present.  75.',\n",
              " \"How's it look to yoU?\",\n",
              " \"Bad. Plasma's contracting into a  critical mass. When that needle hits  the red, Earth is finished.\",\n",
              " \"Grrao! I'll charge down at them:\",\n",
              " 'Cavern is sealed tight -- every door  locked from the inside --',\n",
              " \"Let's face it, my friends -- without  a miracle, we've lost.\",\n",
              " 'All right -- I see the towers lined  up now as Flash Gordon said --  76.',\n",
              " 'Through the force-field, my Hawkmen!  The pass is narrow -- dive three-by-  three! Any man who wishes to turn  back may do so!',\n",
              " \"'D)  Who are these Earthlings, that so  many would die for?\",\n",
              " 'They must have one hell of a little',\n",
              " 'In range.',\n",
              " \"It's a trap! The passage is covered!  77.\",\n",
              " 'Onward, Hawkmen! Dive! We outnumber  their arrows -- overwhelm them!  (',\n",
              " 'Man the battlements!  78.',\n",
              " 'You have the ring?',\n",
              " 'In my pocket.',\n",
              " \"Your Majesty, we're under attack by  Hawkmen!\",\n",
              " \"So what are you doing down here,  coward? Why aren't you in the fray?\",\n",
              " \"Sire, I thought you'd --\",\n",
              " \"Mingo City is impregnable! I'm not  about to put off wedding Dale Arden  for this!\",\n",
              " \"What's for us after this lot?\",\n",
              " 'Ming!',\n",
              " 'The cavern first! Gotta get Zarkov  in there to --',\n",
              " \"'D)  On my god!  79.\",\n",
              " \"I can't watch any more. To think of  all our history ended this way --  the incredible ascent from primordial  slime to Albert Einstein and Dale  Arden and --\",\n",
              " ')  Look!  80.',\n",
              " 'Do you take her, this Earthling,  Dale Arden, to be your Empress of  the hour? Do you solemnly promise  to use her as you will -- not discard  her until such time as you grow weary  of her?',\n",
              " 'The wedding ring, please --',\n",
              " \"'D)  Recite after me -- with this ring I  thee wed --\",\n",
              " 'With this ring, I thee wed!',\n",
              " 'Flash!!!',\n",
              " 'Run!!!',\n",
              " 'Seal this hall! Close every portal!',\n",
              " 'Where did you get that sword?',\n",
              " 'From the crystal block.',\n",
              " 'Impossible! It could only be pulled  by my rightful heir!',\n",
              " 'How about that?',\n",
              " 'Attach the electrodes to the shovels!  Pitch them into the plasma!',\n",
              " \"Flash -- look out -- you're coming  back! He can see you now, Flash!\",\n",
              " 'I foresaw at blow --',\n",
              " \"You're blinded, Klytus -- drop your  sword!\",\n",
              " 'You fight me in vain, Barin I do not  foresee my death at your hands --',\n",
              " 'Cross your fingers, boys!',\n",
              " 'Look -- Earth!',\n",
              " \"Oh it's so beautiful!\",\n",
              " 'Hail, Flash Gordon!',\n",
              " \"What's the matter, darling?\",\n",
              " \"We saved Earth but we lost the capsule --  we'll never get home again.  85.\",\n",
              " ')  You are home.',\n",
              " 'Zarkov is right.',\n",
              " \"Shouldn't you fellows be leaving on  your honeymoon?\"]"
            ]
          },
          "metadata": {
            "tags": []
          },
          "execution_count": 77
        }
      ]
    },
    {
      "cell_type": "code",
      "metadata": {
        "id": "Em9LldAU5trg",
        "colab_type": "code",
        "colab": {}
      },
      "source": [
        "a = [pd.read_csv(f'dialogs/{i}') for i in os.listdir('dialogs/')]"
      ],
      "execution_count": 0,
      "outputs": []
    },
    {
      "cell_type": "code",
      "metadata": {
        "id": "r5zjuhQx5tri",
        "colab_type": "code",
        "colab": {}
      },
      "source": [
        "all_lines = np.concatenate(a)\n",
        "all_lines = pd.DataFrame(all_lines.reshape(1,-1)[0])"
      ],
      "execution_count": 0,
      "outputs": []
    },
    {
      "cell_type": "code",
      "metadata": {
        "id": "Mkd7wmez5trk",
        "colab_type": "code",
        "outputId": "df8fe67f-1504-47a8-ad52-0810f73b9426",
        "colab": {}
      },
      "source": [
        "all_lines.shape"
      ],
      "execution_count": 0,
      "outputs": [
        {
          "output_type": "execute_result",
          "data": {
            "text/plain": [
              "(771808, 1)"
            ]
          },
          "metadata": {
            "tags": []
          },
          "execution_count": 43
        }
      ]
    },
    {
      "cell_type": "code",
      "metadata": {
        "id": "BvDteCy-5trn",
        "colab_type": "code",
        "colab": {}
      },
      "source": [
        "all_lines.to_csv('all_lines.txt',index=False)"
      ],
      "execution_count": 0,
      "outputs": []
    },
    {
      "cell_type": "markdown",
      "metadata": {
        "id": "i_aUJaI8ltQ-",
        "colab_type": "text"
      },
      "source": [
        "## **TextRank Algorithm**\n"
      ]
    },
    {
      "cell_type": "markdown",
      "metadata": {
        "id": "_46ewrbDeeSK",
        "colab_type": "text"
      },
      "source": [
        "Import the required libraries"
      ]
    },
    {
      "cell_type": "code",
      "metadata": {
        "colab_type": "code",
        "id": "WeptlGXN2MnF",
        "outputId": "ff4149f0-18d8-409f-b56a-02463db79cbf",
        "colab": {
          "base_uri": "https://localhost:8080/",
          "height": 50
        }
      },
      "source": [
        "import numpy as np\n",
        "import pandas as pd\n",
        "import nltk\n",
        "from nltk.tokenize import sent_tokenize\n",
        "nltk.download('punkt') # one time execution\n",
        "import re\n",
        "from sklearn.metrics.pairwise import cosine_similarity\n",
        "import networkx as nx"
      ],
      "execution_count": 0,
      "outputs": [
        {
          "output_type": "stream",
          "text": [
            "[nltk_data] Downloading package punkt to /home/rsiri/nltk_data...\n",
            "[nltk_data]   Package punkt is already up-to-date!\n"
          ],
          "name": "stderr"
        }
      ]
    },
    {
      "cell_type": "markdown",
      "metadata": {
        "id": "oTISqPxtfhi6",
        "colab_type": "text"
      },
      "source": [
        "We have to get rid of stopwords which occurs more freqent in the text such as is, am, the, of, in, etc. We first downloaded the stopwords from nltk and from nltk we get what are the most common words in english language"
      ]
    },
    {
      "cell_type": "code",
      "metadata": {
        "colab_type": "code",
        "id": "iPBZsdeWHlHf",
        "outputId": "fb550904-e590-4262-cd38-3346a1f33ac6",
        "colab": {
          "base_uri": "https://localhost:8080/",
          "height": 67
        }
      },
      "source": [
        "nltk.download('stopwords')# one time execution"
      ],
      "execution_count": 0,
      "outputs": [
        {
          "output_type": "stream",
          "text": [
            "[nltk_data] Downloading package stopwords to /home/rsiri/nltk_data...\n",
            "[nltk_data]   Unzipping corpora/stopwords.zip.\n"
          ],
          "name": "stderr"
        },
        {
          "output_type": "execute_result",
          "data": {
            "text/plain": [
              "True"
            ]
          },
          "metadata": {
            "tags": []
          },
          "execution_count": 9
        }
      ]
    },
    {
      "cell_type": "code",
      "metadata": {
        "colab_type": "code",
        "id": "UKk_3HZ-Idjm",
        "colab": {}
      },
      "source": [
        "from nltk.corpus import stopwords\n",
        "stop_words = stopwords.words('english')"
      ],
      "execution_count": 0,
      "outputs": []
    },
    {
      "cell_type": "markdown",
      "metadata": {
        "id": "lfszq9VWgVEB",
        "colab_type": "text"
      },
      "source": [
        "We defined a function to remove the stopwords from the sentence"
      ]
    },
    {
      "cell_type": "code",
      "metadata": {
        "colab_type": "code",
        "id": "RX_NFApzIkmC",
        "colab": {}
      },
      "source": [
        "# function to remove stopwords\n",
        "def remove_stopwords(sen):\n",
        "    sen_new = \" \".join([i for i in sen if i not in stop_words])\n",
        "    return sen_new"
      ],
      "execution_count": 0,
      "outputs": []
    },
    {
      "cell_type": "markdown",
      "metadata": {
        "id": "sbUsBN7ogky8",
        "colab_type": "text"
      },
      "source": [
        "We have downloaded the GloVe embedding to vectorise the sentence"
      ]
    },
    {
      "cell_type": "code",
      "metadata": {
        "colab_type": "code",
        "id": "a5Skjq6DJUtQ",
        "outputId": "eeba2eed-d0ed-42f8-f45f-dea8a99bcb5b",
        "colab": {
          "base_uri": "https://localhost:8080/",
          "height": 290
        }
      },
      "source": [
        "# download pretrained GloVe word embeddings\n",
        "! wget http://nlp.stanford.edu/data/glove.6B.zip"
      ],
      "execution_count": 0,
      "outputs": [
        {
          "output_type": "stream",
          "text": [
            "--2020-01-13 02:49:47--  http://nlp.stanford.edu/data/glove.6B.zip\n",
            "Resolving nlp.stanford.edu (nlp.stanford.edu)... 171.64.67.140\n",
            "Connecting to nlp.stanford.edu (nlp.stanford.edu)|171.64.67.140|:80... connected.\n",
            "HTTP request sent, awaiting response... 302 Found\n",
            "Location: https://nlp.stanford.edu/data/glove.6B.zip [following]\n",
            "--2020-01-13 02:49:49--  https://nlp.stanford.edu/data/glove.6B.zip\n",
            "Connecting to nlp.stanford.edu (nlp.stanford.edu)|171.64.67.140|:443... connected.\n",
            "HTTP request sent, awaiting response... 301 Moved Permanently\n",
            "Location: http://downloads.cs.stanford.edu/nlp/data/glove.6B.zip [following]\n",
            "--2020-01-13 02:49:50--  http://downloads.cs.stanford.edu/nlp/data/glove.6B.zip\n",
            "Resolving downloads.cs.stanford.edu (downloads.cs.stanford.edu)... 171.64.64.22\n",
            "Connecting to downloads.cs.stanford.edu (downloads.cs.stanford.edu)|171.64.64.22|:80... connected.\n",
            "HTTP request sent, awaiting response... 200 OK\n",
            "Length: 862182613 (822M) [application/zip]\n",
            "Saving to: ‘glove.6B.zip’\n",
            "\n",
            "glove.6B.zip        100%[===================>] 822.24M   600KB/s    in 23m 52s \n",
            "\n",
            "2020-01-13 03:13:43 (588 KB/s) - ‘glove.6B.zip’ saved [862182613/862182613]\n",
            "\n"
          ],
          "name": "stdout"
        }
      ]
    },
    {
      "cell_type": "code",
      "metadata": {
        "colab_type": "code",
        "id": "K_GXHzwDJq-2",
        "outputId": "9387687a-04f5-41d9-f525-b6bca3b8f97c",
        "scrolled": true,
        "colab": {
          "base_uri": "https://localhost:8080/",
          "height": 108
        }
      },
      "source": [
        "! unzip glove*.zip"
      ],
      "execution_count": 0,
      "outputs": [
        {
          "output_type": "stream",
          "text": [
            "Archive:  glove.6B.zip\n",
            "  inflating: glove.6B.50d.txt        \n",
            "  inflating: glove.6B.100d.txt       \n",
            "  inflating: glove.6B.200d.txt       \n",
            "  inflating: glove.6B.300d.txt       \n"
          ],
          "name": "stdout"
        }
      ]
    },
    {
      "cell_type": "markdown",
      "metadata": {
        "id": "qWyowmaXgv6t",
        "colab_type": "text"
      },
      "source": [
        "We have created a function which takes the movie file name and and returns ranking of the sentence which is most relevent for summary generation. We have achieved this by implementing the following steps:\n",
        "\n",
        "\n",
        "*   First we have cleaned the data by removing punctuations, numbers and special characters and then we coverted the entire sentence into lower case character. We also removed the stop words from the sentence after that.\n",
        "*   We find vector representation (word embeddings) for each and every sentence\n",
        "* We then computed the similarities between sentence vectors \n",
        "\n",
        "* The similarity matrix is then converted into a graph, with sentences as vertices and similarity scores between the sentences as edges, for sentence rank calculation\n",
        "\n",
        "We then sorted the sentences occording to the ranking in descending order"
      ]
    },
    {
      "cell_type": "code",
      "metadata": {
        "colab_type": "code",
        "id": "TsXIa7CBKsWQ",
        "colab": {}
      },
      "source": [
        "def textrank(filename):\n",
        "    # remove punctuations, numbers and special characters\n",
        "    clean_sentences = pd.read_csv(f'dialogs/{filename}_dialog.txt').iloc[:,0].str.replace(\"[^a-zA-Z]\", \" \")\n",
        "\n",
        "    # make alphabets lowercase\n",
        "    clean_sentences = [s.lower() for s in clean_sentences]\n",
        "\n",
        "    # remove stopwords from the sentences\n",
        "    clean_sentences = [remove_stopwords(r.split()) for r in clean_sentences]\n",
        "    print('Clean words:',clean_sentences[:5])\n",
        "    \n",
        "    # Extract word vectors\n",
        "    word_embeddings = {}\n",
        "    f = open('glove.6B.100d.txt', encoding='utf-8')\n",
        "    for line in f:\n",
        "        values = line.split()\n",
        "        word = values[0]\n",
        "        coefs = np.asarray(values[1:], dtype='float32')\n",
        "        word_embeddings[word] = coefs\n",
        "    f.close()\n",
        "    \n",
        "    sentence_vectors = []\n",
        "    for i in clean_sentences:\n",
        "        if len(i) != 0:\n",
        "            v = sum([word_embeddings.get(w, np.zeros((100,))) for w in i.split()])/(len(i.split())+0.001)\n",
        "        else:\n",
        "            v = np.zeros((100,))\n",
        "        sentence_vectors.append(v)\n",
        "    print(f'no.of sentences: {len(sentence_vectors)}')\n",
        "    \n",
        "    sentence_vectors = np.array(sentence_vectors)\n",
        "    \n",
        "    #The next step is to find similarities among the sentences. We will use cosine similarity to find similarity \n",
        "    #between a pair of sentences. Let's create a similarity matrix for this task by\n",
        "    #populating it with cosine similarities of the sentences.\n",
        "    sim_mat = cosine_similarity(sentence_vectors, sentence_vectors)\n",
        "    \n",
        "    nx_graph = nx.from_numpy_array(sim_mat)\n",
        "    scores = nx.pagerank(nx_graph)\n",
        "    \n",
        "    ranked_sentences = sorted(((scores[i],s) for i,s in enumerate(clean_sentences)), reverse=True)\n",
        "    return ranked_sentences\n",
        "   "
      ],
      "execution_count": 0,
      "outputs": []
    },
    {
      "cell_type": "code",
      "metadata": {
        "colab_type": "code",
        "id": "jwxtPBlgO_Gk",
        "outputId": "5f8b69c8-8705-4c04-d788-8b3ca54ffd45",
        "colab": {
          "base_uri": "https://localhost:8080/",
          "height": 689
        }
      },
      "source": [
        "ranked_sentences = textrank('afewgoodmen')"
      ],
      "execution_count": 0,
      "outputs": [
        {
          "output_type": "stream",
          "text": [
            "Clean words: ['quietly lucky us willy', 'requesting captain like request attorney assigned rep like request assigned represent stops assigned represent good jo confidence inspiring', 'jo come', 'thank sir', 'captain west lt commander galloway jo know mike lawrence']\n",
            "no.of sentences: 1476\n"
          ],
          "name": "stdout"
        }
      ]
    },
    {
      "cell_type": "code",
      "metadata": {
        "id": "yuLamy8-5tr5",
        "colab_type": "code",
        "outputId": "9a3102ae-12b5-47db-c6f0-0e72756c96c2",
        "colab": {}
      },
      "source": [
        "sn = 5\n",
        "\n",
        "# Generate summary\n",
        "for i in range(sn):\n",
        "    print(i,':',ranked_sentences[i][1])"
      ],
      "execution_count": 0,
      "outputs": [
        {
          "output_type": "stream",
          "text": [
            "0 : absolutely answer first damn clue maybe early morning riser liked pack nq maybe friends educated man afraid speak intelligently travel habits william santiago know set leave base really questions called answer phone calls footlockers please tell got something lieutenant please tell ace sleeve two marines trial lives please tell lawyer pinned hopes phone bill beat questions counselor\n",
            "1 : continuing call president yet maybe consider second maybe spit balling maybe officers responsibility train santiago maybe officers responsibility country see men women charged security trained professionals yes certain read somewhere thinking suggestion transferring santiago expeditious certainly painless might manner speaking american way santiago stays gonna train lad charge jon santiago make next fitness report gonna blame gonna kill\n",
            "2 : pause gonna give twelve years go getting trouble tomorrow know platoon commander lt jonathan kendrick meeting men specifically told touch santiago\n",
            "3 : sir joined corps cause wanted live lives certain code found corps asking us sign piece paper says honor asking us say marines judge jury decide wrong accept whatever punishment give believe riqht sir believe job dishonor unit corps qo home six months beat sir\n",
            "4 : pause jo think prepare fact gonna lose beat ross opening speech true beat mean let pretend minute would actually matter jury guys given order prove ever happened beat keep put show end day testimony two people accused murder\n"
          ],
          "name": "stdout"
        }
      ]
    },
    {
      "cell_type": "code",
      "metadata": {
        "id": "RX6B3_3V5tr8",
        "colab_type": "code",
        "outputId": "aa37fc08-beb1-4ffb-f279-b533afe6362e",
        "colab": {}
      },
      "source": [
        "ranked_sentences = textrank('fightclub')"
      ],
      "execution_count": 0,
      "outputs": [
        {
          "output_type": "stream",
          "text": [
            "Clean words: ['v people always asking know tyler durden', 'one minute looking window beginning ground zero maybe say words mark occasion', 'ann iinn ff nnyin', 'v gun barrel teeth speak vowels', 'still distorted think anything']\n",
            "no.of sentences: 1301\n"
          ],
          "name": "stdout"
        }
      ]
    },
    {
      "cell_type": "markdown",
      "metadata": {
        "id": "C2Ly_CaElYxa",
        "colab_type": "text"
      },
      "source": [
        "We have taken first few lines to represent the summary of the movie"
      ]
    },
    {
      "cell_type": "code",
      "metadata": {
        "id": "Tp2Mmecm5tr_",
        "colab_type": "code",
        "outputId": "c10cc2a4-5059-4298-c534-d11b86628417",
        "colab": {}
      },
      "source": [
        "sn = 5\n",
        "\n",
        "# Generate summary\n",
        "for i in range(sn):\n",
        "    print(i,':',ranked_sentences[i][1])"
      ],
      "execution_count": 0,
      "outputs": [
        {
          "output_type": "stream",
          "text": [
            "0 : v even could tell someone good fight talking man\n",
            "1 : happy asked one thing one simple promise look done\n",
            "2 : want die without scars much really know never fight come person ever asked\n",
            "3 : well let see thing\n",
            "4 : v plan maybe see till hit eyes pause started make sense tyler sort way fear distractions ability let matter truly slide\n"
          ],
          "name": "stdout"
        }
      ]
    },
    {
      "cell_type": "markdown",
      "metadata": {
        "id": "PdnvmYX_mFsR",
        "colab_type": "text"
      },
      "source": [
        "## **Bert Extractive Summarizer**\n"
      ]
    },
    {
      "cell_type": "markdown",
      "metadata": {
        "id": "WpCj9z7amJ-B",
        "colab_type": "text"
      },
      "source": [
        "Importing required library"
      ]
    },
    {
      "cell_type": "code",
      "metadata": {
        "id": "NZ76dbRs5tsD",
        "colab_type": "code",
        "colab": {}
      },
      "source": [
        "import os\n",
        "import pandas as pd"
      ],
      "execution_count": 0,
      "outputs": []
    },
    {
      "cell_type": "markdown",
      "metadata": {
        "id": "oIaq_2a1m32F",
        "colab_type": "text"
      },
      "source": [
        "We have imported Bert Extractive Summarizer, which is a library that gives us access to a pre-trained BERT-based text summarization model"
      ]
    },
    {
      "cell_type": "code",
      "metadata": {
        "id": "xrYqbs4n5tsF",
        "colab_type": "code",
        "colab": {}
      },
      "source": [
        "from summarizer import Summarizer\n",
        "model = Summarizer()"
      ],
      "execution_count": 0,
      "outputs": []
    },
    {
      "cell_type": "markdown",
      "metadata": {
        "id": "Q8R3bGMBnVE8",
        "colab_type": "text"
      },
      "source": [
        "Summarizer works by first embedding the sentences, then running a clustering algorithm, finding the sentences that are closest to the cluster's centroids."
      ]
    },
    {
      "cell_type": "code",
      "metadata": {
        "id": "Qn9N5Ean5tsH",
        "colab_type": "code",
        "outputId": "2e7a3929-03e0-4eae-dc86-0a041ac62997",
        "colab": {}
      },
      "source": [
        "Summarizer?"
      ],
      "execution_count": 0,
      "outputs": [
        {
          "output_type": "display_data",
          "data": {
            "text/plain": [
              "\u001b[0;31mInit signature:\u001b[0m\n",
              "\u001b[0mSummarizer\u001b[0m\u001b[0;34m(\u001b[0m\u001b[0;34m\u001b[0m\n",
              "\u001b[0;34m\u001b[0m    \u001b[0mmodel\u001b[0m\u001b[0;34m:\u001b[0m\u001b[0mstr\u001b[0m\u001b[0;34m=\u001b[0m\u001b[0;34m'bert-large-uncased'\u001b[0m\u001b[0;34m,\u001b[0m\u001b[0;34m\u001b[0m\n",
              "\u001b[0;34m\u001b[0m    \u001b[0mcustom_model\u001b[0m\u001b[0;34m:\u001b[0m\u001b[0mtransformers\u001b[0m\u001b[0;34m.\u001b[0m\u001b[0mmodeling_utils\u001b[0m\u001b[0;34m.\u001b[0m\u001b[0mPreTrainedModel\u001b[0m\u001b[0;34m=\u001b[0m\u001b[0;32mNone\u001b[0m\u001b[0;34m,\u001b[0m\u001b[0;34m\u001b[0m\n",
              "\u001b[0;34m\u001b[0m    \u001b[0mcustom_tokenizer\u001b[0m\u001b[0;34m:\u001b[0m\u001b[0mtransformers\u001b[0m\u001b[0;34m.\u001b[0m\u001b[0mtokenization_utils\u001b[0m\u001b[0;34m.\u001b[0m\u001b[0mPreTrainedTokenizer\u001b[0m\u001b[0;34m=\u001b[0m\u001b[0;32mNone\u001b[0m\u001b[0;34m,\u001b[0m\u001b[0;34m\u001b[0m\n",
              "\u001b[0;34m\u001b[0m    \u001b[0mhidden\u001b[0m\u001b[0;34m:\u001b[0m\u001b[0mint\u001b[0m\u001b[0;34m=\u001b[0m\u001b[0;34m-\u001b[0m\u001b[0;36m2\u001b[0m\u001b[0;34m,\u001b[0m\u001b[0;34m\u001b[0m\n",
              "\u001b[0;34m\u001b[0m    \u001b[0mreduce_option\u001b[0m\u001b[0;34m:\u001b[0m\u001b[0mstr\u001b[0m\u001b[0;34m=\u001b[0m\u001b[0;34m'mean'\u001b[0m\u001b[0;34m,\u001b[0m\u001b[0;34m\u001b[0m\n",
              "\u001b[0;34m\u001b[0m    \u001b[0mgreedyness\u001b[0m\u001b[0;34m:\u001b[0m\u001b[0mfloat\u001b[0m\u001b[0;34m=\u001b[0m\u001b[0;36m0.45\u001b[0m\u001b[0;34m,\u001b[0m\u001b[0;34m\u001b[0m\n",
              "\u001b[0;34m\u001b[0m    \u001b[0mlanguage\u001b[0m\u001b[0;34m=\u001b[0m\u001b[0;34m<\u001b[0m\u001b[0;32mclass\u001b[0m \u001b[0;34m'spacy.lang.en.English'\u001b[0m\u001b[0;34m>\u001b[0m\u001b[0;34m,\u001b[0m\u001b[0;34m\u001b[0m\n",
              "\u001b[0;34m\u001b[0m    \u001b[0mrandom_state\u001b[0m\u001b[0;34m:\u001b[0m\u001b[0mint\u001b[0m\u001b[0;34m=\u001b[0m\u001b[0;36m12345\u001b[0m\u001b[0;34m,\u001b[0m\u001b[0;34m\u001b[0m\n",
              "\u001b[0;34m\u001b[0m\u001b[0;34m)\u001b[0m\u001b[0;34m\u001b[0m\u001b[0;34m\u001b[0m\u001b[0m\n",
              "\u001b[0;31mDocstring:\u001b[0m      Deprecated for naming sake.\n",
              "\u001b[0;31mInit docstring:\u001b[0m\n",
              "This is the main Bert Summarizer class.\n",
              "\n",
              ":param model: This parameter is associated with the inherit string parameters from the transformers library.\n",
              ":param custom_model: If you have a pre-trained model, you can add the model class here.\n",
              ":param custom_tokenizer: If you have a custom tokenizer, you can add the tokenizer here.\n",
              ":param hidden: This signifies which layer of the BERT model you would like to use as embeddings.\n",
              ":param reduce_option: Given the output of the bert model, this param determines how you want to reduce results.\n",
              ":param greedyness: associated with the neuralcoref library. Determines how greedy coref should be.\n",
              ":param language: Which language to use for training.\n",
              ":param random_state: The random state to reproduce summarizations.\n",
              "\u001b[0;31mFile:\u001b[0m           ~/anaconda3/envs/torch_tf/lib/python3.6/site-packages/summarizer/model_processors.py\n",
              "\u001b[0;31mType:\u001b[0m           type\n",
              "\u001b[0;31mSubclasses:\u001b[0m     \n"
            ]
          },
          "metadata": {
            "tags": []
          }
        }
      ]
    },
    {
      "cell_type": "code",
      "metadata": {
        "id": "OF9iuv3c5tsJ",
        "colab_type": "code",
        "outputId": "9bf5f41d-26d6-43ba-9fca-34ac6dd5d606",
        "colab": {}
      },
      "source": [
        "sample_text = '''\n",
        "When Mr. Bilbo Baggins of Bag End announced that he would shortly be\n",
        "celebrating his eleventy-first birthday with a party of special\n",
        "magnificence, there was much talk and excitement in Hobbiton.\n",
        "Bilbo was very rich and very peculiar, and had been the\n",
        "wonder of the Shire for sixty years, ever since his remarkable\n",
        "disappearance and unexpected return. The riches he had brought back\n",
        "from his travels had now become a local legend, and it was popularly\n",
        "believed, whatever the old folk might say, that the Hill at Bag End\n",
        "was full of tunnels stuffed with treasure. And if that was not enough\n",
        "for fame, there was also his prolonged vigour to marvel at. Time wore\n",
        "on, but it seemed to have little effect on Mr. Baggins. At ninety he\n",
        "was much the same as at fifty. At ninety-nine they began to call him\n",
        "well-preserved; but unchanged would have been nearer the mark. There\n",
        "were some that shook their heads and thought this was too much of a\n",
        "good thing; it seemed unfair that anyone should possess (apparently)\n",
        "perpetual youth as well as (reputedly) inexhaustible wealth.\n",
        "\"It will have to be paid for,\" they said. \"It isn\"t natural,\n",
        "and trouble will come of it!\"\n",
        "'''\n",
        "model(sample_text)"
      ],
      "execution_count": 0,
      "outputs": [
        {
          "output_type": "execute_result",
          "data": {
            "text/plain": [
              "'When Mr. Bilbo Baggins of Bag End announced that he would shortly be\\ncelebrating his eleventy-first birthday with a party of special\\nmagnificence, there was much talk and excitement in Hobbiton. Bilbo was very rich and very peculiar, and had been the\\nwonder of the Shire for sixty years, ever since his remarkable\\ndisappearance and unexpected return. There\\nwere some that shook their heads and thought this was too much of a\\ngood thing; it seemed unfair that anyone should possess (apparently)\\nperpetual youth as well as (reputedly) inexhaustible wealth.'"
            ]
          },
          "metadata": {
            "tags": []
          },
          "execution_count": 7
        }
      ]
    },
    {
      "cell_type": "code",
      "metadata": {
        "id": "TSv5P4Ed5tsK",
        "colab_type": "code",
        "colab": {}
      },
      "source": [
        "files = pd.Series(os.listdir('dialogs/'))"
      ],
      "execution_count": 0,
      "outputs": []
    },
    {
      "cell_type": "markdown",
      "metadata": {
        "id": "8MsrbvO5oEvP",
        "colab_type": "text"
      },
      "source": [
        "Finding the movies that contains a word"
      ]
    },
    {
      "cell_type": "code",
      "metadata": {
        "id": "4E98dpif5tsM",
        "colab_type": "code",
        "outputId": "3b828b2d-bfb1-47bf-ae83-434ff830e769",
        "colab": {}
      },
      "source": [
        "movie_name_like = 'up'\n",
        "files[files.str.contains(movie_name_like)].str.replace('_dialog.txt','')"
      ],
      "execution_count": 0,
      "outputs": [
        {
          "output_type": "execute_result",
          "data": {
            "text/plain": [
              "3                 upintheair\n",
              "69             backupplanthe\n",
              "166                 ducksoup\n",
              "189                 croupier\n",
              "207                supergirl\n",
              "250                   tincup\n",
              "254              kungfupanda\n",
              "318                   super8\n",
              "355                       up\n",
              "458                 aptpupil\n",
              "502              changeupthe\n",
              "583                 superbad\n",
              "686                knockedup\n",
              "766    iloveyouphillipmorris\n",
              "772          crazystupidlove\n",
              "dtype: object"
            ]
          },
          "metadata": {
            "tags": []
          },
          "execution_count": 59
        }
      ]
    },
    {
      "cell_type": "markdown",
      "metadata": {
        "id": "2PeMjWGsoXW8",
        "colab_type": "text"
      },
      "source": [
        "We have created a function that will return the summary of movie obtained from Bert Extractive Summarizer"
      ]
    },
    {
      "cell_type": "code",
      "metadata": {
        "id": "FWwo0e-35tsO",
        "colab_type": "code",
        "colab": {}
      },
      "source": [
        "def summary(movie_name):\n",
        "    body = \"\"\n",
        "    with open(f'dialogs/{movie_name}_dialog.txt', encoding=\"utf-8\") as f:\n",
        "        body = f.readlines()\n",
        "        body = \"\\n\".join(body)\n",
        "    result = model(body, min_length=10,max_length=50)\n",
        "    print(result)"
      ],
      "execution_count": 0,
      "outputs": []
    },
    {
      "cell_type": "code",
      "metadata": {
        "id": "MnB0ybE65tsP",
        "colab_type": "code",
        "outputId": "7493079f-1590-4ab8-f68d-a29b41829518",
        "colab": {}
      },
      "source": [
        "summary('afewgoodmen')"
      ],
      "execution_count": 0,
      "outputs": [
        {
          "output_type": "stream",
          "text": [
            "Good, Jo, that's  confidence inspiring.\" \"Thank you, sir.\" Someone who  can really look into this. (beat)  Myself.\" \"Certainly, sir.\" She disposed of three cases in two  years. She's not cut out for litigation. All passion, no street smarts. \"Nothing to be sorry about, Sherby. \"(calling back)  I don't think so, Danny.\" I will get it. \"Guantanamo Bay, Cuba. Commander Joanne  Galloway. She's the one who had 'em  brought up here. I'm lead counsel. This is Sam  Weinberg. Going on nine months now. (beat)  I see. \"Commander, Lt. They'll need a lawyer. You with me?\" Twelve years. \"My job is to make sure you do your  job. Read the letters. \"Sorry, I always forget that.\" \"(V.O.)  Dear Sir,\"\n",
            "\n",
            "About being marines. Who the fuck is William T.  Santiago. \"You're appalled? I've got a  better idea. Let's -- on second  thought -- Windward. (calling out)  Tom!\" \"Wait a minute, Tom.\" \"(continuing)  Don't call the President just yet. \"(continuing)  Matthew, sit, please.\" \"(continuing)  Matthew, siddown. \"No, thank you, I can't throw and  catch things.\" Dawson and Downey. I don't think your clients murdered  anybody. (continuing)  What a pity. \":  M.P.  Officer on deck, ten-hut.\" \"Sir, Lance Corporal Harold W. Dawson,  sir. (to\n",
            "\n",
            ")  Is this your signature? Harold,  what's a Code Red?\" What's a garden variety Code Red? Was the attack on Santiago a Code  Red? When all of a sudden...? )  Did anyone see you call the ambulance? Were you there when the ambulance  got there? \"He went outside his unit, sir. \"To train him, sir.\" Train him to think of his unit before  himself. Dan Kaffee. Sailin' Jack Ross. I'll talk to you when I get back. \"You gotta play 'em as they lay,  Luther.\" \"When Nancy gets back, you're my  witness. The girl sat here,  pointed, and said \"\"Pa\"\". She  said \"\"Pa\"\".\" \"You don't believe their story, do  you? I don't  even know who he is. Lieutenants Kaffee and Weinberg? (shouting)  Yeah. We gotta take a boat?! \"(shouting)  No. No problem. The\n",
            "\n",
            "Corps can be demanding that  way. \"Fine, sir.\" \"No, you may not.\" he's dead because he had no honor. And what happened then? (standing)  Thank you. No you don't. Yes he does. \"Santiago's transfer order. For the file. That I'm here to help anyway I can?\" and\n",
            "\n",
            ")  Let's go. I think Kendrick ordered the Code  Red. \"You didn't ask us, sir.\" \"Ma'am, that's correct. About 16:20.\" (continuing)  Jack!! This is Jo Galloway she's Downey's  lawyer. That's right. That's not what Kendrick said. I have the defendants. \"You can try, but you won't find him. Counter Intelligence. They're home in six months. \"No deal, we're going to a jury.\" No you're not. \"We have a code, sir.\" But I believe  I was riqht, sir. He's  gonna do whatever you do. (beat)  I think you'd lose. (continuing)  M.P.! (to\"\n",
            "\n",
            ")  I want to get him a new lawyer. One thing, though. These guys aren't the Nazis.\" Why are you so afraid to be a lawyer? I know the  law.\" You're  a used car salesman, Daniel. You're  an ambulance chaser with a rank. (beat)  Live with that.\" Are you Markinson? \"(pause)  They were following an order, Sam.\" An illegal order. I say we eat first. (beat)  That's it. Let's start prepping for  Stone.\" The doctor's  covering up the truth.\" \"(into phone)  Captain Hill, this is Lt. I walk into that every goddam  time! Try to get some  sleep tonight. You  don't have to. I won't make  you say it.\" (beat)  Oh. \"No objection, your honor.\" These are the facts of the  case. (beat)  Now, Lt. But it's  gonna be entertaining. What did the letter say? Lance Corporal Harold Dawson. But you don't believe him. No more questions. Were the other members of the squad  angry? \"Corporal, did Lt. What was the order? An ingested poison of some kind. The witness is speculating.\" There would still be  symptoms though. \"Sam, she made a mistake. Let's not  relive it.\" They didn't like him. Go see  your wife, see your daughter. This  trial starts Monday. \"Jo, are you asking me out on a date?\" Was his barracks ever in disorder? (beat)  Never? They  were too afraid of Dawson, sir.\" Have you read it? Corporal Howard, I'm a marine. Kaffee, that's not in the book,  sir.\" \"Corporal Howard, you can step down.\" I want to slam-  dunk this guy.\" I know everything. I didn't need to --\n",
            "\n",
            "Did you witness it?! \"I'm gonna get you a deal. Where is he? Clearance code? )  I don't have a clearance code. \"Jo, don't get crazy about this. I represent the Government  of the United States. Without passion  or prejudice. And my client has a  case. I'm sure it was. \"That's a distortion of the truth. (to\"\n",
            "\n",
            ")  Not so fast. (to\n",
            "\n",
            ")  Lieutenant? Corporal Dawson disobeyed an order. \"You know so, don't you, Lieutenant.\" \"(continuing)  Lt. I'll get  the log book from Andrews.\" You're taking the stand. That'll be enough. And why did you give him a Code Red? I'm just saying go slow. I'm gonna go slow. (V.O.)  United states marine corps. (to\n",
            "\n",
            ")  Your witness. That day, sir. \"Private, did you ever actually hear  Lt. \"(pause)  No, sir.\" Why did you go into Santiago's room? The witness has rights. Your honor --\n",
            "\n",
            "Hal? Did Corporal Dawson tell you to do  it? That's nice. I'm  sorry. Markinson's dead. To subpoena Colonel Jessep. Listen for a second --\n",
            "\n",
            "Just hear me out --\n",
            "\n",
            "\"No. Why did you ask Jessep for the  transfer order? And of course you have  proof of that. We get it from him. And for defense counsel Kaffee? That's  right -- it's -- a court -- martial. Stop cleaning up. (continuing)  Sam. (continuing)  You want a drink? Don't do this to yourself. \"I'll bet he is. Not in  a million years. What would  you do? I was angry and... I'm  sorry about what I said. I say we hit him with the phoney  transfer order. \"(continuing)  Good. That's the plan? You're gonna trip Jessep and he's  gonna confess. I'm not gonna trip him. Where's my bat? I put it in the closet. (into phone)  Sam. (beat)  I think it doesn't matter what I  think. (beat)  I can't seem to defend people. )  Call your witness. Defense calls Colonel Nathan Jessep. Grave danger? Was that the first flight  off the bass?\" \"Why did you make that call, sir?\" Your honor --\n",
            "\n",
            "The objection's noted. (beat)  Colonel? Do you have an answer? (continuing)  What would you like to discuss now! Any chance Kendrick ignored the order? Are we clear?\" \"(pause)  Yes. Damnit Kaffee!! (beat)  You don't want the truth. Did you order the code red? (pause)  You're goddamn right I did. I  did my job. Guard the prisoner. (continuing)  The witness is excused. You're the marine. Airmen Cecil O'Malley and Anthony  Perez? What do you say we take the rest of  the day off. What about you? How 'bout a  celebration? Sounds good. Who do you think I  should call?\n"
          ],
          "name": "stdout"
        }
      ]
    },
    {
      "cell_type": "code",
      "metadata": {
        "id": "gTogiD8X5tsS",
        "colab_type": "code",
        "outputId": "340acddc-8947-41d1-d7e0-5600cdd76dc0",
        "colab": {}
      },
      "source": [
        "summary('up')"
      ],
      "execution_count": 0,
      "outputs": [
        {
          "output_type": "stream",
          "text": [
            "\"(V.O.)  Why, our subject today: Charles  Muntz!\" \"\"\"Adventure is out there!\"\"\" But what's this? And I will not come back until I do! (V.O.)  He hurdles the Grand Canyon! (V.O.)  He... goes around Mount Everest! Is there nothing he cannot do? Let's take  her up to 26,000 feet! There's something down there! I will bring it back for science. (O.S.)  No time! Do you think you got what  it takes? \"Hey, I don't bite.\" \"You and me, we're in a club now.\" There it is. Thought you might need a little  cheerin' up. \"Charles Muntz, explorer. You can take us there  in a blimp! \"You know, you don't talk very much. \"Quite a sight, huh Ellie? (noticing mailbox)  Uhp, mail's here. Oh brother. \"Uh, I take that as a no, then.\" he's out to get  your house!\" My name is  Russell.\"\"\" \"Thank you, but I don't need any help! These are my Wilderness  Explorer badges. \"It's gonna be great! I'm elderly and  infirm. \"I'll find it, Mr. Fredricksen!\" If you go past --\n",
            "\n",
            "Two blocks down! \"Hey sir, I...\"\n",
            "\n",
            "I don't want you to touch it! Sorry Mr. Fredricksen. A.J.  Typical. You going to South America,  Mr. Fredricksen?\" \"Well, that's not gonna work.\" Wha... what happened? \"My dad gave it to me. With this baby, We'll never be lost!\" \"We'll get you down, find a bus  stop. We can't be close to the ground yet. (out of breath)  Where... where are we? \"There it is. You mean assist you? \"Yeah, yeah. That's it?! We could walk it right over there. Why are we going to Paradise  Falls again? (O.S.)  Oh. It's before! Don't eat it all. Nice snipe. \"Oh yes, they're very tall. It's a snipe! \"Go on, get out of here. \"Careful, Russell!\" \")  Hey, look Mr. Fredricksen, it likes  me!\" Can you believe this, Ellie?\" (to Carl)  She said for you to let me.\" Thank goodness. I can smell you. \"Hey, that one looks like a turtle!\" (calls out)  We have your dog! It's not possible. It could  be radioactive or something.\" Please please  please? It's just a weird trick or  something. Oh please oh  please be my prisoner. I smell  chocolate.\" Soon enough the bird will be  ours yet again. \"'D)  This is Alpha calling Dug. Oh, gotta go.\" Why's he with that small mailman? Where are they? Oh boy oh boy! \"Oh boy, oh boy! \"Hey, uh, We're pretty far now. Kevin's gonna miss me. With the\"\n",
            "\n",
            "'s and the badges? I don't think he wants to talk  about this stuff. Why don't you try him sometime? Can Kevin go with us? Morning Sweetheart. Maybe Russell  won't notice. \"Where's Kevin? he's wandered off! \"Hey, that's my food! Get off my  roof!\" Yeah...\n",
            "\n",
            "\"This was her favorite chocolate. (high-pitched voice)  Where's the bird? You said you had  the bird. \"Uh, tomorrow. My dogs made a mistake.\" Well... Yes. It's really him! (to dogs)  Attention everyone! Jiminy Cricket. Put him in  the Cone of Shame. \"(high-pitched voice)  Master, dinner is ready.\" It's  that loose wire again. (leans down, fixes it)  There you go big fella.\" \"They called me a fraud, those...  dah! I've spent a  lifetime tracking it. A \"\"Surveyor\"\"  making a map.\" An old man taking his house to  Paradise Falls. You haven't  had dessert. I will stop the  dogs! Hang on to Kevin! He helped  them escape!\" This is crazy. What a joke. Careful Russell. \"Hmm, get used to that, kid. \"Hold on Russell, stand still!\" Look at that bird go! (O.S.)  Get away from my bird! It's alright. \"Don't worry Kevin, We're on our  way! I want the ball! he's in Hall D! \"Grey 2, checking in.\" \"Any last words, Fredricksen? Come  on, spit it out! I'm taking that bird back  with me alive or dead! \"Come on, Kevin! (high-pitched voice)  What? Do not just continue  sitting! Listen you dog! I am not Alpha, he is-  (\"\n",
            "\n",
            ")  Oohhhh! (out of breath)  I can't do it! (pointing down)  Squirrel! \"Don't jerk around so much, kid!\" \"Sorry about your house, Mr.  Fredricksen.\" \"You know, it's just a house.\" \"Huh, where's my cane? (to Camp Master)  I'm here for him. That's a bike! Maybe I need new glasses.\n"
          ],
          "name": "stdout"
        }
      ]
    },
    {
      "cell_type": "code",
      "metadata": {
        "id": "9lP9yDi_5tsT",
        "colab_type": "code",
        "colab": {}
      },
      "source": [
        ""
      ],
      "execution_count": 0,
      "outputs": []
    },
    {
      "cell_type": "markdown",
      "metadata": {
        "id": "vm1pGJ6Zpg20",
        "colab_type": "text"
      },
      "source": [
        "**References:**\n",
        "\n",
        "\n",
        "1.   \n",
        "https://pypi.org/project/bert-extractive-summarizer/\n",
        "2.   https://www.analyticsvidhya.com/blog/2018/11/introduction-text-summarization-textrank-python/\n"
      ]
    },
    {
      "cell_type": "markdown",
      "metadata": {
        "id": "CBoWehb0m13L",
        "colab_type": "text"
      },
      "source": [
        "### After this, we pivoted from our project and started solving another problem. So please find Part 2 of the report at https://colab.research.google.com/drive/19ijDj96QY2XXTJ14gxaYkxhwy_fcZw7i?authuser=2#scrollTo=QsEgNA-YkiFx"
      ]
    },
    {
      "cell_type": "code",
      "metadata": {
        "id": "XaTCnBanm6Vg",
        "colab_type": "code",
        "colab": {}
      },
      "source": [
        ""
      ],
      "execution_count": 0,
      "outputs": []
    }
  ]
}